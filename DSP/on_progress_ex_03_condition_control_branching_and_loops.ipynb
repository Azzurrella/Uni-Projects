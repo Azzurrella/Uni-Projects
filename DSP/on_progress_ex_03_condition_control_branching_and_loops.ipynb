{
  "nbformat": 4,
  "nbformat_minor": 0,
  "metadata": {
    "colab": {
      "provenance": [],
      "include_colab_link": true
    },
    "kernelspec": {
      "name": "python3",
      "display_name": "Python 3"
    },
    "language_info": {
      "name": "python"
    }
  },
  "cells": [
    {
      "cell_type": "markdown",
      "metadata": {
        "id": "view-in-github",
        "colab_type": "text"
      },
      "source": [
        "<a href=\"https://colab.research.google.com/github/Azzurrella/Uni-Projects/blob/main/DSP/on_progress_ex_03_condition_control_branching_and_loops.ipynb\" target=\"_parent\"><img src=\"https://colab.research.google.com/assets/colab-badge.svg\" alt=\"Open In Colab\"/></a>"
      ]
    },
    {
      "cell_type": "markdown",
      "source": [
        "### Exercise 1\n",
        "Take the string given below, find a way to identify the number given in the string and\n",
        "\n",
        "a) assign this number to a variable,\n",
        "\n",
        "b) create a new string that has a number half the value.\n",
        "\n",
        "``` python\n",
        "given_string = 'There are more than 6 days in a week.'\n",
        "```"
      ],
      "metadata": {
        "id": "hryPBHivGX4y"
      }
    },
    {
      "cell_type": "code",
      "source": [
        "import re\n",
        "given_string = 'There are more than 6 days in a week'\n",
        "\n",
        "number = int(re.search(r'\\d+', given_string).group()) #I used a regular expression (\\d+) to find the first sequence of digits in the string.\n",
        "\n",
        "half_number = number / 2\n",
        "new_string = f'There are more than {half_number} days in a week.'\n",
        "\n",
        "print(new_string)"
      ],
      "metadata": {
        "colab": {
          "base_uri": "https://localhost:8080/"
        },
        "id": "Kmm9BBNrr5n2",
        "outputId": "37c61a13-7a02-4423-cfbd-c7201dd4a4a3"
      },
      "execution_count": 1,
      "outputs": [
        {
          "output_type": "stream",
          "name": "stdout",
          "text": [
            "There are more than 3.0 days in a week.\n"
          ]
        }
      ]
    },
    {
      "cell_type": "markdown",
      "source": [
        "### Exercise 2\n",
        "\n",
        "From the two given same-length lists of numbers, create two new lists:\n",
        "\n",
        "a) one that holds the sum of each component of the two lists and\n",
        "\n",
        "b) one that holds only the positive subtractions (for the negative subtractions the value to be placed should be zero).\n",
        "\n",
        "```python\n",
        "x = [4,6,8,9]\n",
        "y = [9,8,6,4]\n",
        "```"
      ],
      "metadata": {
        "id": "WFo_JzFGGaR3"
      }
    },
    {
      "cell_type": "code",
      "source": [
        "#a\n",
        "x = [4,6,8,9]\n",
        "y = [9,8,6,4]\n",
        "z_list = []\n",
        "for i in range (0,4):\n",
        "  z_list.append(x[i]+y[i])\n",
        "print(z_list)\n",
        "#b\n",
        "\n"
      ],
      "metadata": {
        "colab": {
          "base_uri": "https://localhost:8080/"
        },
        "id": "SPLhsRBiuBlr",
        "outputId": "070066f2-ee78-44fb-9265-3f6b92f76528"
      },
      "execution_count": 32,
      "outputs": [
        {
          "output_type": "stream",
          "name": "stdout",
          "text": [
            "[13, 14, 14, 13]\n"
          ]
        }
      ]
    },
    {
      "cell_type": "code",
      "source": [],
      "metadata": {
        "id": "vcFntwVGFXjJ"
      },
      "execution_count": null,
      "outputs": []
    },
    {
      "cell_type": "markdown",
      "source": [
        "### Exercise 3\n",
        "\n",
        "Begin from number 100 and store in a list the sequence of numbers that that are produced by successively halfing 100 until the value of 0.001, i.e.,\n",
        "\n",
        "```python\n",
        "[100, 50, 25, ...]\n",
        "```"
      ],
      "metadata": {
        "id": "CzUXEmbbIoNI"
      }
    }
  ]
}