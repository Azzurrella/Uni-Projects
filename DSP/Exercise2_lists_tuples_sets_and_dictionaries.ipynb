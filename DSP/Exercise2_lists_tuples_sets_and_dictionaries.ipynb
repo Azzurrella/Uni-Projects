{
  "nbformat": 4,
  "nbformat_minor": 0,
  "metadata": {
    "colab": {
      "provenance": []
    },
    "kernelspec": {
      "name": "python3",
      "display_name": "Python 3"
    },
    "language_info": {
      "name": "python"
    }
  },
  "cells": [
    {
      "cell_type": "markdown",
      "source": [
        "### Exercise 1\n",
        "Use sets to find a way to count how many common elements the following two lists have:\n",
        "``` python\n",
        "x = [1,2,3,4]\n",
        "y = [3,4,5,6]\n",
        "```"
      ],
      "metadata": {
        "id": "OWdoIwZS5ID4"
      }
    },
    {
      "cell_type": "code",
      "source": [
        "x = [1,2,3,4]\n",
        "y = [3,4,5,6]\n",
        "x = set(x) #We are transforming the lists to sets\n",
        "y = set(y)\n",
        "print (x & y) #First way to do it\n",
        "print (x.intersection(y)) #Second way to do it"
      ],
      "metadata": {
        "colab": {
          "base_uri": "https://localhost:8080/"
        },
        "id": "j_kHcvqCDjP8",
        "outputId": "2d09efab-6c55-48ce-a71c-4c4e5712f22c"
      },
      "execution_count": 9,
      "outputs": [
        {
          "output_type": "stream",
          "name": "stdout",
          "text": [
            "{3, 4}\n",
            "{3, 4}\n"
          ]
        }
      ]
    },
    {
      "cell_type": "markdown",
      "source": [
        "### Exercise 2\n",
        "In the given dictionary create a new entry named \"Elizabeth\" that has all the numbers that Alice and Bob have, except from the numbers that Carol and David have. Use \"extend\" and sets.\n",
        "\n",
        "```python\n",
        "d = {\n",
        "    'Alice': [2,4,6,8,10],\n",
        "    'Bob': [1,3,5,7],\n",
        "    'Carol': [2,5,8,11],\n",
        "    'David': [1,4,7,10]\n",
        "}\n",
        "```"
      ],
      "metadata": {
        "id": "340iqUGR8jFZ"
      }
    },
    {
      "cell_type": "code",
      "source": [
        "d = {\n",
        "    'Alice': [2,4,6,8,10],\n",
        "    'Bob': [1,3,5,7],\n",
        "    'Carol': [2,5,8,11],\n",
        "    'David': [1,4,7,10]\n",
        "}\n",
        "\n",
        "Elizabeth = []\n",
        "A = set(d['Alice'])\n",
        "B = set(d['Bob'])\n",
        "C = set(d['Carol'])\n",
        "D = set(d['David'])\n",
        "\n",
        "AB = A | B\n",
        "CD = C | D\n",
        "Elizabeth.extend(AB.difference (CD))\n",
        "\n",
        "d ['Elizabeth'] = Elizabeth\n",
        "print (d)"
      ],
      "metadata": {
        "colab": {
          "base_uri": "https://localhost:8080/"
        },
        "id": "Rf33jJHuGcRt",
        "outputId": "f601a309-606e-4bf7-da5b-59ec1b17ce83"
      },
      "execution_count": 31,
      "outputs": [
        {
          "output_type": "stream",
          "name": "stdout",
          "text": [
            "{'Alice': [2, 4, 6, 8, 10], 'Bob': [1, 3, 5, 7], 'Carol': [2, 5, 8, 11], 'David': [1, 4, 7, 10], 'Elizabeth': [3, 6]}\n"
          ]
        }
      ]
    }
  ]
}