{
  "nbformat": 4,
  "nbformat_minor": 0,
  "metadata": {
    "colab": {
      "provenance": [],
      "toc_visible": true
    },
    "kernelspec": {
      "name": "python3",
      "display_name": "Python 3"
    },
    "language_info": {
      "name": "python"
    }
  },
  "cells": [
    {
      "cell_type": "markdown",
      "source": [
        "### Exercise 1\n",
        "Introduce four variables of types int, float, string and bool respectively. Assign to each variable a value of your choice. Try to add, subtract, multiply and divide all pairs of variables, print the results and checkout which operations work for which variable pairs."
      ],
      "metadata": {
        "id": "v4w_D16xb89O"
      }
    },
    {
      "cell_type": "code",
      "source": [
        "x = \"It's a me Mario!\"\n",
        "y = 64\n",
        "z = 6.4\n",
        "c = 64 > 32\n",
        "\n",
        "#print (y + x) #TypeError: can only concatenate str (not \"int\") to str\n",
        "print (y + z) #Result = 70.4\n",
        "print (y + c) #Result = 65 (the statement is true so it counts as 1 that means its 64 + 1)\n",
        "\n",
        "#print (x - y) #TypeError: unsupported operand type(s) for -: 'str' and 'int'\n",
        "#print (x - z) #TypeError: unsupported operand type(s) for -: 'str' and 'float'\n",
        "#print(x - c) #TypeError: unsupported operand type(s) for -: 'str' and 'bool'\n",
        "\n",
        "#print (z * x) #TypeError: can't multiply sequence by non-int of type 'float'\n",
        "print (z * y) #Result =  409.6\n",
        "print (z * c) #Result = 6.4 (the statement is true so it counts as 1 that means its 6.4 * 1)\n",
        "\n",
        "#print (c / x) #TypeError: unsupported operand type(s) for /: 'bool' and 'str'\n",
        "print (c / y) #Result = 0.015625\n",
        "print (c / z) #Result = 0.15625\n"
      ],
      "metadata": {
        "id": "OQEAe39A8MIN"
      },
      "execution_count": null,
      "outputs": []
    },
    {
      "cell_type": "markdown",
      "source": [
        "### Exercise 2\n",
        "Assign the name and surename of two actresses or actors in two variables, e.g.\n",
        "``` python\n",
        "x = 'Keanu Reeves'\n",
        "y = 'Rea Seahorn'\n",
        "```\n",
        "Try to cross-exchange the names with their surnames in two new variables, e.g., you should end up with\n",
        "``` python\n",
        "z = 'Keanu Seahorn'\n",
        "w = 'Rea Reeves'\n",
        "```"
      ],
      "metadata": {
        "id": "aVnb7wvWcgdK"
      }
    },
    {
      "cell_type": "code",
      "source": [
        "x = \"Angelina Jolie\"\n",
        "y = \"Henry Cavill\"\n",
        "\n",
        "x = x.split()\n",
        "y = y.split()\n",
        "\n",
        "print (x[0] + \" \" + y[1])\n",
        "print (y[0] + \" \" + x[1])"
      ],
      "metadata": {
        "id": "5o0Nk5UK8UG8"
      },
      "execution_count": null,
      "outputs": []
    },
    {
      "cell_type": "markdown",
      "source": [
        "### Exercise 3\n",
        "In the following string, replace the 'a's with 'b's and vice versa:\n",
        "``` python\n",
        "s = 'abbabaa'\n",
        "```"
      ],
      "metadata": {
        "id": "gvevsFNwovaQ"
      }
    },
    {
      "cell_type": "code",
      "source": [
        "s = 'abbabaa'\n",
        "\n",
        "t = s.replace (\"a\",\"b\")\n",
        "y = s.replace (\"b\",\"a\")\n",
        "print (t)\n",
        "print (y)"
      ],
      "metadata": {
        "id": "D801P_QQ8bEc"
      },
      "execution_count": null,
      "outputs": []
    },
    {
      "cell_type": "markdown",
      "source": [
        "### Exercise 4\n",
        "What happens if you try to transform the integer 0 to bool? What happens if you do it with integer 1? What happens with any other integer, negative or positive?"
      ],
      "metadata": {
        "id": "3r74kEffpJ0m"
      }
    },
    {
      "cell_type": "code",
      "source": [
        "x = 0\n",
        "print(x == False) #True: Integer 0 is always False in Bool\n",
        "\n",
        "if (not 0):\n",
        "  print (\"Mamma mia!\")\n",
        "\n",
        "print(1 == True) #True: Integer 1 is always True in Bool\n",
        "print(64 == True) #False: Random Integers are False\n",
        "print(-32 == True) #False: Random negative Integers are also False\n",
        "\n"
      ],
      "metadata": {
        "id": "exR67N138ejR",
        "colab": {
          "base_uri": "https://localhost:8080/"
        },
        "outputId": "9f5632cd-baa3-48b6-bfca-17bfbad36569"
      },
      "execution_count": 17,
      "outputs": [
        {
          "output_type": "stream",
          "name": "stdout",
          "text": [
            "True\n",
            "Mamma mia!\n",
            "True\n",
            "False\n",
            "False\n"
          ]
        }
      ]
    }
  ]
}