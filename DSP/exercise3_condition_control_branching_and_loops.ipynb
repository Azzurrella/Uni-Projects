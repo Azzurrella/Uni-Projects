{
  "nbformat": 4,
  "nbformat_minor": 0,
  "metadata": {
    "colab": {
      "provenance": [],
      "include_colab_link": true
    },
    "kernelspec": {
      "name": "python3",
      "display_name": "Python 3"
    },
    "language_info": {
      "name": "python"
    }
  },
  "cells": [
    {
      "cell_type": "markdown",
      "metadata": {
        "id": "view-in-github",
        "colab_type": "text"
      },
      "source": [
        "<a href=\"https://colab.research.google.com/github/Azzurrella/Uni-Projects/blob/main/DSP/on_progress_ex_03_condition_control_branching_and_loops.ipynb\" target=\"_parent\"><img src=\"https://colab.research.google.com/assets/colab-badge.svg\" alt=\"Open In Colab\"/></a>"
      ]
    },
    {
      "cell_type": "markdown",
      "source": [
        "### Exercise 1\n",
        "Take the string given below, find a way to identify the number given in the string and\n",
        "\n",
        "a) assign this number to a variable,\n",
        "\n",
        "b) create a new string that has a number half the value.\n",
        "\n",
        "``` python\n",
        "given_string = 'There are more than 6 days in a week.'\n",
        "```"
      ],
      "metadata": {
        "id": "hryPBHivGX4y"
      }
    },
    {
      "cell_type": "code",
      "source": [
        "import re\n",
        "given_string = 'There are more than 6 days in a week'\n",
        "\n",
        "number = int(re.search(r'\\d+', given_string).group()) #I used a regular expression (\\d+) to find the first sequence of digits in the string.\n",
        "\n",
        "half_number = number / 2\n",
        "new_string = f'There are more than {half_number} days in a week.'\n",
        "\n",
        "print(new_string)"
      ],
      "metadata": {
        "colab": {
          "base_uri": "https://localhost:8080/"
        },
        "id": "Kmm9BBNrr5n2",
        "outputId": "37c61a13-7a02-4423-cfbd-c7201dd4a4a3"
      },
      "execution_count": null,
      "outputs": [
        {
          "output_type": "stream",
          "name": "stdout",
          "text": [
            "There are more than 3.0 days in a week.\n"
          ]
        }
      ]
    },
    {
      "cell_type": "markdown",
      "source": [
        "### Exercise 2\n",
        "\n",
        "From the two given same-length lists of numbers, create two new lists:\n",
        "\n",
        "a) one that holds the sum of each component of the two lists and\n",
        "\n",
        "b) one that holds only the positive subtractions (for the negative subtractions the value to be placed should be zero).\n",
        "\n",
        "```python\n",
        "x = [4,6,8,9]\n",
        "y = [9,8,6,4]\n",
        "```"
      ],
      "metadata": {
        "id": "WFo_JzFGGaR3"
      }
    },
    {
      "cell_type": "code",
      "source": [
        "#a)\n",
        "x = [4,6,8,9]\n",
        "y = [9,8,6,4]\n",
        "z_list = []\n",
        "for i in range (0,len(x)):\n",
        "  z_list.append(x[i]+y[i])\n",
        "print(z_list)"
      ],
      "metadata": {
        "colab": {
          "base_uri": "https://localhost:8080/"
        },
        "id": "SPLhsRBiuBlr",
        "outputId": "2f59f3dc-d697-4ee1-8f54-16da5ef52960"
      },
      "execution_count": 4,
      "outputs": [
        {
          "output_type": "stream",
          "name": "stdout",
          "text": [
            "[13, 14, 14, 13]\n"
          ]
        }
      ]
    },
    {
      "cell_type": "code",
      "source": [
        "#b)\n",
        "x = [4,6,8,9]\n",
        "y = [9,8,6,4]\n",
        "z_list = []\n",
        "for i in range (0,len(x)):\n",
        "  tmp=(x[i]-y[i])\n",
        "  if tmp < 0:\n",
        "    tmp = 0\n",
        "  z_list.append(tmp)\n",
        "print(z_list)"
      ],
      "metadata": {
        "id": "55r1xeT_Ut5r",
        "outputId": "b8ffc0f6-ee89-4a38-f5ac-e1302144a99c",
        "colab": {
          "base_uri": "https://localhost:8080/"
        }
      },
      "execution_count": 10,
      "outputs": [
        {
          "output_type": "stream",
          "name": "stdout",
          "text": [
            "[0, 0, 2, 5]\n"
          ]
        }
      ]
    },
    {
      "cell_type": "markdown",
      "source": [
        "### Exercise 3\n",
        "\n",
        "Begin from number 100 and store in a list the sequence of numbers that that are produced by successively halfing 100 until the value of 0.001, i.e.,\n",
        "\n",
        "```python\n",
        "[100, 50, 25, ...]\n",
        "```"
      ],
      "metadata": {
        "id": "CzUXEmbbIoNI"
      }
    },
    {
      "cell_type": "code",
      "source": [
        "x = []\n",
        "y = 100\n",
        "while 0.001 <= y :\n",
        "  x.append(y)\n",
        "  y = y / 2\n",
        "print(x)"
      ],
      "metadata": {
        "id": "a01RBw-8XiBu",
        "outputId": "c57311ec-1e35-40fd-f711-5a3487fd5519",
        "colab": {
          "base_uri": "https://localhost:8080/"
        }
      },
      "execution_count": 32,
      "outputs": [
        {
          "output_type": "stream",
          "name": "stdout",
          "text": [
            "[100, 50.0, 25.0, 12.5, 6.25, 3.125, 1.5625, 0.78125, 0.390625, 0.1953125, 0.09765625, 0.048828125, 0.0244140625, 0.01220703125, 0.006103515625, 0.0030517578125, 0.00152587890625]\n"
          ]
        }
      ]
    }
  ]
}