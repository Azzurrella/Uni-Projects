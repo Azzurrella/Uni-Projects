{
  "nbformat": 4,
  "nbformat_minor": 0,
  "metadata": {
    "colab": {
      "provenance": [],
      "include_colab_link": true
    },
    "kernelspec": {
      "name": "python3",
      "display_name": "Python 3"
    },
    "language_info": {
      "name": "python"
    }
  },
  "cells": [
    {
      "cell_type": "markdown",
      "metadata": {
        "id": "view-in-github",
        "colab_type": "text"
      },
      "source": [
        "<a href=\"https://colab.research.google.com/github/Azzurrella/Uni-Projects/blob/main/DSP/on_progress_ex_04_functions_part_1.ipynb\" target=\"_parent\"><img src=\"https://colab.research.google.com/assets/colab-badge.svg\" alt=\"Open In Colab\"/></a>"
      ]
    },
    {
      "cell_type": "markdown",
      "source": [
        "### Exercise 1\n",
        "\n",
        "Create a function that takes a string as an argument and counts the number of occurances of the letter 'a' in it."
      ],
      "metadata": {
        "id": "Tu0CqKkJKbEX"
      }
    },
    {
      "cell_type": "code",
      "source": [
        "def count_a(string_to_count):\n",
        "   return string_to_count.count(\"a\")\n",
        "\n",
        "def main():\n",
        "  my_string = \"Thank you Mario, but our Princess is in another castle.\"\n",
        "  count_string = count_a(my_string)\n",
        "  print(count_string)\n",
        "main()"
      ],
      "metadata": {
        "colab": {
          "base_uri": "https://localhost:8080/"
        },
        "id": "a9_0N_ZpjUu3",
        "outputId": "2b92ae5d-f43e-4108-ced3-14463fbdbd71"
      },
      "execution_count": 9,
      "outputs": [
        {
          "output_type": "stream",
          "name": "stdout",
          "text": [
            "4\n"
          ]
        }
      ]
    },
    {
      "cell_type": "markdown",
      "source": [
        "### Exercise 2\n",
        "\n",
        "Create a function that takes two arguments: one string and one list of letters. The function should output the number of occurances of the each input letter in the input string. Make this function so that both input variables are keyword variables."
      ],
      "metadata": {
        "id": "a9xQDyknLF73"
      }
    },
    {
      "cell_type": "code",
      "source": [],
      "metadata": {
        "id": "NbCW2Wq2jUBY"
      },
      "execution_count": null,
      "outputs": []
    },
    {
      "cell_type": "markdown",
      "source": [
        "### Exercise 3\n",
        "\n",
        "Create a function that utilizes the function in the previous exercise, receives a string and outputs the occurance of each letter in the English alphabet in this string. You can also use the following function to create the list of English letters:\n",
        "\n",
        "```python\n",
        "list(map(chr, range(97, 123)))\n",
        "```"
      ],
      "metadata": {
        "id": "K8H74lidMK3Z"
      }
    },
    {
      "cell_type": "markdown",
      "source": [
        "### Exercise 4\n",
        "\n",
        "Create a function that calls the\n",
        "\n",
        "``` python\n",
        "fibonnaci_up_to_number(n)\n",
        "```\n",
        "\n",
        "function for n in consecutive powers of 10 (i.e., 10**1, 10**2, ... 10**10).\n",
        "\n",
        "For each call of the function, write down how many more elements the fibonacci sequence has in comparison to the previous run."
      ],
      "metadata": {
        "id": "nGmkd61vffqf"
      }
    }
  ]
}